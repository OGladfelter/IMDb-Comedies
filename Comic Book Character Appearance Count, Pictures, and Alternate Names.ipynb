{
 "cells": [
  {
   "cell_type": "markdown",
   "metadata": {},
   "source": [
    "# Appearance Counts, Character Pictures, and Name Variations\n",
    "\n",
    "## Author: Oliver Gladfelter\n",
    "\n",
    "## Date: October 8th, 2018\n",
    "\n",
    "### Purpose: Collecting data needed for end-product design. Appearance counts size each point in the beeswarm plot, name variations add flexibility in the 'character-look-up' interactive, and character pictures are used throughout in highlighting specific examples."
   ]
  },
  {
   "cell_type": "code",
   "execution_count": 2,
   "metadata": {},
   "outputs": [],
   "source": [
    "import lxml.html as lh\n",
    "import io\n",
    "import requests\n",
    "from bs4 import BeautifulSoup\n",
    "import pandas as pd\n",
    "import re"
   ]
  },
  {
   "cell_type": "code",
   "execution_count": 2,
   "metadata": {},
   "outputs": [],
   "source": [
    "data = pd.read_csv(\"normalHeightData.csv\")\n",
    "del data['Unnamed: 0']"
   ]
  },
  {
   "cell_type": "markdown",
   "metadata": {},
   "source": [
    "# Function to scrape number of appearances for each character"
   ]
  },
  {
   "cell_type": "code",
   "execution_count": 47,
   "metadata": {},
   "outputs": [],
   "source": [
    "def getAppearanceCount(link):\n",
    "\n",
    "    r = requests.get(link)\n",
    "\n",
    "    if r.status_code != 200:\n",
    "        return -1\n",
    "    else:\n",
    "        soup = BeautifulSoup(r.content, \"lxml\")\n",
    "\n",
    "    uls = soup.findAll(\"ul\")\n",
    "\n",
    "    for ul in uls:\n",
    "        if re.search(\"Appearances of\",ul.text) is not None:\n",
    "            appearanceItem = ul\n",
    "\n",
    "    appearanceCount = appearanceItem.findAll(\"li\")[0].text\n",
    "\n",
    "    appearanceString = re.search(\"\\s?(.{,})\\sApp\",appearanceCount).group(1)\n",
    "    \n",
    "    # catching an error\n",
    "    if (appearanceString == 'First') | (appearanceString == ''):\n",
    "        return -2\n",
    "    \n",
    "    # If a value has at least a thousand views, there is a comma in the\n",
    "    # string which must be removed before converting to int\n",
    "    return int(appearanceString.replace(\",\",\"\"))"
   ]
  },
  {
   "cell_type": "code",
   "execution_count": 110,
   "metadata": {},
   "outputs": [],
   "source": [
    "data['appearances'] = data['link'].apply(getAppearanceCount)"
   ]
  },
  {
   "cell_type": "markdown",
   "metadata": {},
   "source": [
    "# Function to scrape picture link for each character's featured image"
   ]
  },
  {
   "cell_type": "code",
   "execution_count": 241,
   "metadata": {},
   "outputs": [],
   "source": [
    "def getPic(link):\n",
    "    \n",
    "    r=requests.get(link)\n",
    "    if r.status_code != 200:\n",
    "        return -1\n",
    "    \n",
    "    soup = BeautifulSoup(r.content, \"lxml\")\n",
    "    \n",
    "    # not all characters have a picture\n",
    "    try:\n",
    "        return soup.find('figure',{'class':'pi-item pi-image'}).find('a')['href']\n",
    "    except:\n",
    "        return -2"
   ]
  },
  {
   "cell_type": "code",
   "execution_count": 295,
   "metadata": {},
   "outputs": [],
   "source": [
    "def getImageFromGoogle(name,universe):\n",
    "    \"\"\"\n",
    "    For characters who don't have a picture on their Wikia page, we need a work around\n",
    "    This function Google Image searches the character's name and publisher (Marvel or DC)\n",
    "    then returns a link to the first result\n",
    "    \"\"\"\n",
    "    \n",
    "    name = name.replace(\" \",\"+\")\n",
    "    \n",
    "    link = \"https://www.google.com/search?q={}+{}&source=lnms&tbm=isch&sa=X&ved=0ahUKEwiixLLTvfDdAhXyYN8KHXbaAQoQ_AUIDygC&biw=1366&bih=626#imgrc=npqj4x8uQAFjVM:\".format(name,universe)\n",
    "    \n",
    "    r=requests.get(link)\n",
    "    soup = BeautifulSoup(r.content, \"lxml\")\n",
    "    \n",
    "    return soup.findAll('img')[0]['src']"
   ]
  },
  {
   "cell_type": "code",
   "execution_count": null,
   "metadata": {},
   "outputs": [],
   "source": [
    "data['picLink'] = data['link'].apply(getPic)"
   ]
  },
  {
   "cell_type": "code",
   "execution_count": null,
   "metadata": {},
   "outputs": [],
   "source": [
    "for num in range(0,len(data)):\n",
    "                 \n",
    "    if data['picLink'][num] == -2:\n",
    "        data['picLink'][num] = getImageFromGoogle(data['name'][num],data['publisher'][num])"
   ]
  },
  {
   "cell_type": "markdown",
   "metadata": {},
   "source": [
    "# Scrape Superhero Identity & Nicknames"
   ]
  },
  {
   "cell_type": "code",
   "execution_count": 386,
   "metadata": {},
   "outputs": [],
   "source": [
    "def getSuperheroName(link):\n",
    "    \"\"\"\n",
    "    All character pages list the character's birth/legal name as its title\n",
    "    For example, Captain America's main page is titled \"Steven Rogers\"\n",
    "    This function collects each individual's superhero name\n",
    "    \"\"\"\n",
    "\n",
    "    r=requests.get(link)\n",
    "    if r.status_code != 200:\n",
    "        return -1\n",
    "    soup = BeautifulSoup(r.content, \"lxml\")\n",
    "    \n",
    "    return soup.find('h2',{'pi-item pi-item-spacing pi-title'}).text\n",
    "\n",
    "def getFullName(link):\n",
    "    \"\"\"\n",
    "    Several characters have nicknames. For example, we all know Ironman\n",
    "    to be the superhero name of Tony Stark, but Stark's birth/legal name is\n",
    "    \"Anthony Stark\", which is the name we originally collected. This function\n",
    "    collects characters' full names, which include their nickname\n",
    "    \"\"\"\n",
    "    \n",
    "    r=requests.get(link)\n",
    "    if r.status_code != 200:\n",
    "        return -1\n",
    "    soup = BeautifulSoup(r.content, \"lxml\")\n",
    "    \n",
    "    name = soup.find('div',{'class':'pi-data-value pi-font'}).text\n",
    "    \n",
    "    # Removing citation notation and leading space\n",
    "    name = name.replace(\" [1]\",\"\").strip(\" \")\n",
    "    name = name.replace(\"[1]\",\"\")\n",
    "    name = name.replace(\" [2]\",\"\")\n",
    "    name = name.replace(\"[2]\",\"\")\n",
    "    name = name.replace(\" [3]\",\"\")\n",
    "    return name.replace(\"[3]\",\"\")\n",
    "\n",
    "def nickName(fullName):\n",
    "    \"\"\"\n",
    "    Parses a nickname out of a full name, if a character has a nickname\n",
    "    \"\"\"\n",
    "    \n",
    "    if fullName == -1:\n",
    "        return fullName\n",
    "    \n",
    "    # No listed nickname in full name\n",
    "    if re.search(\"[\\\"\\'](.{,})[\\\"\\']\",fullName) is None:\n",
    "        return \"\"\n",
    "    \n",
    "    # Return nickname + last name\n",
    "    nickName = re.search(\"[\\\"\\'](.{,})[\\\"\\']\",fullName).group(1)\n",
    "    lastName = fullName.split(\" \")[-1]\n",
    "    return nickName + \" \" + lastName"
   ]
  },
  {
   "cell_type": "code",
   "execution_count": null,
   "metadata": {},
   "outputs": [],
   "source": [
    "data['superName'] = data['link'].apply(getSuperheroName)\n",
    "data['fullName'] = data['link'].apply(getFullName)\n",
    "data['nickName'] = data['fullName'].apply(nickName)"
   ]
  }
 ],
 "metadata": {
  "kernelspec": {
   "display_name": "Python 3",
   "language": "python",
   "name": "python3"
  },
  "language_info": {
   "codemirror_mode": {
    "name": "ipython",
    "version": 3
   },
   "file_extension": ".py",
   "mimetype": "text/x-python",
   "name": "python",
   "nbconvert_exporter": "python",
   "pygments_lexer": "ipython3",
   "version": "3.6.5"
  }
 },
 "nbformat": 4,
 "nbformat_minor": 2
}
